{
 "cells": [
  {
   "cell_type": "code",
   "execution_count": 1,
   "id": "78b1e69c",
   "metadata": {
    "_cell_guid": "b1076dfc-b9ad-4769-8c92-a6c4dae69d19",
    "_uuid": "8f2839f25d086af736a60e9eeb907d3b93b6e0e5",
    "execution": {
     "iopub.execute_input": "2024-01-18T10:37:03.021356Z",
     "iopub.status.busy": "2024-01-18T10:37:03.020735Z",
     "iopub.status.idle": "2024-01-18T10:37:03.441615Z",
     "shell.execute_reply": "2024-01-18T10:37:03.440468Z"
    },
    "papermill": {
     "duration": 0.434359,
     "end_time": "2024-01-18T10:37:03.443981",
     "exception": false,
     "start_time": "2024-01-18T10:37:03.009622",
     "status": "completed"
    },
    "tags": []
   },
   "outputs": [
    {
     "name": "stdout",
     "output_type": "stream",
     "text": [
      "/kaggle/input/used-car-dataset/Used Car Dataset.csv\n"
     ]
    }
   ],
   "source": [
    "# This Python 3 environment comes with many helpful analytics libraries installed\n",
    "# It is defined by the kaggle/python Docker image: https://github.com/kaggle/docker-python\n",
    "# For example, here's several helpful packages to load\n",
    "\n",
    "import numpy as np # linear algebra\n",
    "import pandas as pd # data processing, CSV file I/O (e.g. pd.read_csv)\n",
    "\n",
    "# Input data files are available in the read-only \"../input/\" directory\n",
    "# For example, running this (by clicking run or pressing Shift+Enter) will list all files under the input directory\n",
    "\n",
    "import os\n",
    "for dirname, _, filenames in os.walk('/kaggle/input'):\n",
    "    for filename in filenames:\n",
    "        \n",
    "        print(os.path.join(dirname, filename))\n",
    "\n",
    "# You can write up to 20GB to the current directory (/kaggle/working/) that gets preserved as output when you create a version using \"Save & Run All\" \n",
    "# You can also write temporary files to /kaggle/temp/, but they won't be saved outside of the current session"
   ]
  },
  {
   "cell_type": "markdown",
   "id": "6c8dff73",
   "metadata": {
    "papermill": {
     "duration": 0.005713,
     "end_time": "2024-01-18T10:37:03.455595",
     "exception": false,
     "start_time": "2024-01-18T10:37:03.449882",
     "status": "completed"
    },
    "tags": []
   },
   "source": [
    "perform EDA analysis"
   ]
  },
  {
   "cell_type": "markdown",
   "id": "f4b03738",
   "metadata": {
    "papermill": {
     "duration": 0.005395,
     "end_time": "2024-01-18T10:37:03.466849",
     "exception": false,
     "start_time": "2024-01-18T10:37:03.461454",
     "status": "completed"
    },
    "tags": []
   },
   "source": [
    "Load Data:\n"
   ]
  },
  {
   "cell_type": "code",
   "execution_count": 2,
   "id": "cfe7758c",
   "metadata": {
    "execution": {
     "iopub.execute_input": "2024-01-18T10:37:03.480089Z",
     "iopub.status.busy": "2024-01-18T10:37:03.479594Z",
     "iopub.status.idle": "2024-01-18T10:37:03.513044Z",
     "shell.execute_reply": "2024-01-18T10:37:03.511875Z"
    },
    "papermill": {
     "duration": 0.043512,
     "end_time": "2024-01-18T10:37:03.516139",
     "exception": false,
     "start_time": "2024-01-18T10:37:03.472627",
     "status": "completed"
    },
    "tags": []
   },
   "outputs": [],
   "source": [
    "import pandas as pd\n",
    "# Assuming your data is in a CSV file\n",
    "data = pd.read_csv(\"/kaggle/input/used-car-dataset/Used Car Dataset.csv\")\n"
   ]
  },
  {
   "cell_type": "code",
   "execution_count": 3,
   "id": "0cc852ea",
   "metadata": {
    "execution": {
     "iopub.execute_input": "2024-01-18T10:37:03.529854Z",
     "iopub.status.busy": "2024-01-18T10:37:03.529082Z",
     "iopub.status.idle": "2024-01-18T10:37:03.548476Z",
     "shell.execute_reply": "2024-01-18T10:37:03.547291Z"
    },
    "papermill": {
     "duration": 0.029376,
     "end_time": "2024-01-18T10:37:03.551180",
     "exception": false,
     "start_time": "2024-01-18T10:37:03.521804",
     "status": "completed"
    },
    "tags": []
   },
   "outputs": [
    {
     "name": "stdout",
     "output_type": "stream",
     "text": [
      "   Unnamed: 0                                           car_name  \\\n",
      "0           0                    2017 Mercedes-Benz S-Class S400   \n",
      "1           1  2020 Nissan Magnite Turbo CVT XV Premium Opt BSVI   \n",
      "2           2                       2018 BMW X1 sDrive 20d xLine   \n",
      "3           3                           2019 Kia Seltos GTX Plus   \n",
      "4           4                    2019 Skoda Superb LK 1.8 TSI AT   \n",
      "\n",
      "  registration_year insurance_validity fuel_type  seats  kms_driven  \\\n",
      "0            Jul-17      Comprehensive    Petrol      5       56000   \n",
      "1            Jan-21      Comprehensive    Petrol      5       30615   \n",
      "2            Sep-18      Comprehensive    Diesel      5       24000   \n",
      "3            Dec-19      Comprehensive    Petrol      5       18378   \n",
      "4            Aug-19      Comprehensive    Petrol      5       44900   \n",
      "\n",
      "    ownsership transmission manufacturing_year  mileage(kmpl)  engine(cc)  \\\n",
      "0  First Owner    Automatic               2017           7.81      2996.0   \n",
      "1  First Owner    Automatic               2020          17.40       999.0   \n",
      "2  First Owner    Automatic               2018          20.68      1995.0   \n",
      "3  First Owner       Manual               2019          16.50      1353.0   \n",
      "4  First Owner    Automatic               2019          14.67      1798.0   \n",
      "\n",
      "   max_power(bhp)  torque(Nm)  price(in lakhs)  \n",
      "0          2996.0       333.0            63.75  \n",
      "1           999.0      9863.0             8.99  \n",
      "2          1995.0       188.0            23.75  \n",
      "3          1353.0     13808.0            13.56  \n",
      "4          1798.0     17746.0            24.00  \n"
     ]
    }
   ],
   "source": [
    "# Display first few rows of the data\n",
    "print(data.head())\n"
   ]
  },
  {
   "cell_type": "code",
   "execution_count": 4,
   "id": "8d87c1bb",
   "metadata": {
    "execution": {
     "iopub.execute_input": "2024-01-18T10:37:03.564925Z",
     "iopub.status.busy": "2024-01-18T10:37:03.564343Z",
     "iopub.status.idle": "2024-01-18T10:37:03.594381Z",
     "shell.execute_reply": "2024-01-18T10:37:03.593156Z"
    },
    "papermill": {
     "duration": 0.039684,
     "end_time": "2024-01-18T10:37:03.596733",
     "exception": false,
     "start_time": "2024-01-18T10:37:03.557049",
     "status": "completed"
    },
    "tags": []
   },
   "outputs": [
    {
     "name": "stdout",
     "output_type": "stream",
     "text": [
      "<class 'pandas.core.frame.DataFrame'>\n",
      "RangeIndex: 1553 entries, 0 to 1552\n",
      "Data columns (total 15 columns):\n",
      " #   Column              Non-Null Count  Dtype  \n",
      "---  ------              --------------  -----  \n",
      " 0   Unnamed: 0          1553 non-null   int64  \n",
      " 1   car_name            1553 non-null   object \n",
      " 2   registration_year   1553 non-null   object \n",
      " 3   insurance_validity  1553 non-null   object \n",
      " 4   fuel_type           1553 non-null   object \n",
      " 5   seats               1553 non-null   int64  \n",
      " 6   kms_driven          1553 non-null   int64  \n",
      " 7   ownsership          1553 non-null   object \n",
      " 8   transmission        1553 non-null   object \n",
      " 9   manufacturing_year  1553 non-null   object \n",
      " 10  mileage(kmpl)       1550 non-null   float64\n",
      " 11  engine(cc)          1550 non-null   float64\n",
      " 12  max_power(bhp)      1550 non-null   float64\n",
      " 13  torque(Nm)          1549 non-null   float64\n",
      " 14  price(in lakhs)     1553 non-null   float64\n",
      "dtypes: float64(5), int64(3), object(7)\n",
      "memory usage: 182.1+ KB\n",
      "None\n"
     ]
    }
   ],
   "source": [
    "# Get general information about the data\n",
    "print(data.info())"
   ]
  },
  {
   "cell_type": "code",
   "execution_count": 5,
   "id": "504e671e",
   "metadata": {
    "execution": {
     "iopub.execute_input": "2024-01-18T10:37:03.611220Z",
     "iopub.status.busy": "2024-01-18T10:37:03.610159Z",
     "iopub.status.idle": "2024-01-18T10:37:03.641857Z",
     "shell.execute_reply": "2024-01-18T10:37:03.640544Z"
    },
    "papermill": {
     "duration": 0.041801,
     "end_time": "2024-01-18T10:37:03.644655",
     "exception": false,
     "start_time": "2024-01-18T10:37:03.602854",
     "status": "completed"
    },
    "tags": []
   },
   "outputs": [
    {
     "name": "stdout",
     "output_type": "stream",
     "text": [
      "        Unnamed: 0         seats     kms_driven  mileage(kmpl)    engine(cc)  \\\n",
      "count  1553.000000   1553.000000    1553.000000    1550.000000  1.550000e+03   \n",
      "mean    776.000000     91.480361   52841.931101     236.927277  1.471857e+10   \n",
      "std     448.456798   2403.424060   40067.800347     585.964295  2.185629e+11   \n",
      "min       0.000000      4.000000     620.000000       7.810000  5.000000e+00   \n",
      "25%     388.000000      5.000000   30000.000000      16.342500  1.197000e+03   \n",
      "50%     776.000000      5.000000   49134.000000      18.900000  1.462000e+03   \n",
      "75%    1164.000000      5.000000   70000.000000      22.000000  1.995000e+03   \n",
      "max    1552.000000  67000.000000  810000.000000    3996.000000  3.258640e+12   \n",
      "\n",
      "       max_power(bhp)    torque(Nm)  price(in lakhs)  \n",
      "count    1.550000e+03  1.549000e+03      1553.000000  \n",
      "mean     1.471857e+10  1.423989e+04       166.141494  \n",
      "std      2.185629e+11  9.666241e+04      3478.855090  \n",
      "min      5.000000e+00  5.000000e+00         1.000000  \n",
      "25%      1.197000e+03  4.000000e+02         4.660000  \n",
      "50%      1.462000e+03  1.173000e+03         7.140000  \n",
      "75%      1.995000e+03  8.850000e+03        17.000000  \n",
      "max      3.258640e+12  1.464800e+06     95000.000000  \n"
     ]
    }
   ],
   "source": [
    "# Summary statistics\n",
    "print(data.describe())"
   ]
  },
  {
   "cell_type": "markdown",
   "id": "30be181e",
   "metadata": {
    "papermill": {
     "duration": 0.005742,
     "end_time": "2024-01-18T10:37:03.656432",
     "exception": false,
     "start_time": "2024-01-18T10:37:03.650690",
     "status": "completed"
    },
    "tags": []
   },
   "source": [
    "Handle Missing Values:\n",
    "Use methods like isnull(), fillna() to handle missing values."
   ]
  },
  {
   "cell_type": "code",
   "execution_count": 6,
   "id": "d09c6e12",
   "metadata": {
    "execution": {
     "iopub.execute_input": "2024-01-18T10:37:03.670022Z",
     "iopub.status.busy": "2024-01-18T10:37:03.669630Z",
     "iopub.status.idle": "2024-01-18T10:37:03.677230Z",
     "shell.execute_reply": "2024-01-18T10:37:03.675990Z"
    },
    "papermill": {
     "duration": 0.018296,
     "end_time": "2024-01-18T10:37:03.680635",
     "exception": false,
     "start_time": "2024-01-18T10:37:03.662339",
     "status": "completed"
    },
    "tags": []
   },
   "outputs": [
    {
     "name": "stdout",
     "output_type": "stream",
     "text": [
      "Unnamed: 0            0\n",
      "car_name              0\n",
      "registration_year     0\n",
      "insurance_validity    0\n",
      "fuel_type             0\n",
      "seats                 0\n",
      "kms_driven            0\n",
      "ownsership            0\n",
      "transmission          0\n",
      "manufacturing_year    0\n",
      "mileage(kmpl)         3\n",
      "engine(cc)            3\n",
      "max_power(bhp)        3\n",
      "torque(Nm)            4\n",
      "price(in lakhs)       0\n",
      "dtype: int64\n"
     ]
    }
   ],
   "source": [
    "# Check for missing values\n",
    "print(data.isnull().sum())\n",
    "\n"
   ]
  },
  {
   "cell_type": "markdown",
   "id": "a905ad4b",
   "metadata": {
    "papermill": {
     "duration": 0.006327,
     "end_time": "2024-01-18T10:37:03.693136",
     "exception": false,
     "start_time": "2024-01-18T10:37:03.686809",
     "status": "completed"
    },
    "tags": []
   },
   "source": []
  },
  {
   "cell_type": "code",
   "execution_count": 7,
   "id": "3e58db87",
   "metadata": {
    "execution": {
     "iopub.execute_input": "2024-01-18T10:37:03.708060Z",
     "iopub.status.busy": "2024-01-18T10:37:03.707426Z",
     "iopub.status.idle": "2024-01-18T10:37:03.715152Z",
     "shell.execute_reply": "2024-01-18T10:37:03.713828Z"
    },
    "papermill": {
     "duration": 0.018421,
     "end_time": "2024-01-18T10:37:03.717937",
     "exception": false,
     "start_time": "2024-01-18T10:37:03.699516",
     "status": "completed"
    },
    "tags": []
   },
   "outputs": [
    {
     "name": "stdout",
     "output_type": "stream",
     "text": [
      "Unnamed: 0              int64\n",
      "car_name               object\n",
      "registration_year      object\n",
      "insurance_validity     object\n",
      "fuel_type              object\n",
      "seats                   int64\n",
      "kms_driven              int64\n",
      "ownsership             object\n",
      "transmission           object\n",
      "manufacturing_year     object\n",
      "mileage(kmpl)         float64\n",
      "engine(cc)            float64\n",
      "max_power(bhp)        float64\n",
      "torque(Nm)            float64\n",
      "price(in lakhs)       float64\n",
      "dtype: object\n"
     ]
    }
   ],
   "source": [
    "\n",
    "print(data.dtypes)"
   ]
  },
  {
   "cell_type": "code",
   "execution_count": 8,
   "id": "8e4dee9d",
   "metadata": {
    "execution": {
     "iopub.execute_input": "2024-01-18T10:37:03.732114Z",
     "iopub.status.busy": "2024-01-18T10:37:03.731703Z",
     "iopub.status.idle": "2024-01-18T10:37:03.742568Z",
     "shell.execute_reply": "2024-01-18T10:37:03.741444Z"
    },
    "papermill": {
     "duration": 0.020815,
     "end_time": "2024-01-18T10:37:03.745007",
     "exception": false,
     "start_time": "2024-01-18T10:37:03.724192",
     "status": "completed"
    },
    "tags": []
   },
   "outputs": [],
   "source": [
    "data['mileage(kmpl)'].fillna(data['mileage(kmpl)'].mean(), inplace=True)\n",
    "data['engine(cc)'].fillna(data['engine(cc)'].mean(), inplace=True)\n",
    "data['max_power(bhp)'].fillna(data['max_power(bhp)'].mean(), inplace=True)\n",
    "data['torque(Nm)'].fillna(data['torque(Nm)'].mean(), inplace=True)\n"
   ]
  },
  {
   "cell_type": "code",
   "execution_count": 9,
   "id": "a2cac472",
   "metadata": {
    "execution": {
     "iopub.execute_input": "2024-01-18T10:37:03.759340Z",
     "iopub.status.busy": "2024-01-18T10:37:03.758913Z",
     "iopub.status.idle": "2024-01-18T10:37:03.767799Z",
     "shell.execute_reply": "2024-01-18T10:37:03.766496Z"
    },
    "papermill": {
     "duration": 0.018876,
     "end_time": "2024-01-18T10:37:03.770179",
     "exception": false,
     "start_time": "2024-01-18T10:37:03.751303",
     "status": "completed"
    },
    "tags": []
   },
   "outputs": [
    {
     "name": "stdout",
     "output_type": "stream",
     "text": [
      "Unnamed: 0            0\n",
      "car_name              0\n",
      "registration_year     0\n",
      "insurance_validity    0\n",
      "fuel_type             0\n",
      "seats                 0\n",
      "kms_driven            0\n",
      "ownsership            0\n",
      "transmission          0\n",
      "manufacturing_year    0\n",
      "mileage(kmpl)         0\n",
      "engine(cc)            0\n",
      "max_power(bhp)        0\n",
      "torque(Nm)            0\n",
      "price(in lakhs)       0\n",
      "dtype: int64\n"
     ]
    }
   ],
   "source": [
    "print(data.isnull().sum())"
   ]
  },
  {
   "cell_type": "code",
   "execution_count": 10,
   "id": "7707d6d9",
   "metadata": {
    "execution": {
     "iopub.execute_input": "2024-01-18T10:37:03.785035Z",
     "iopub.status.busy": "2024-01-18T10:37:03.784641Z",
     "iopub.status.idle": "2024-01-18T10:37:03.789902Z",
     "shell.execute_reply": "2024-01-18T10:37:03.789028Z"
    },
    "papermill": {
     "duration": 0.015292,
     "end_time": "2024-01-18T10:37:03.792091",
     "exception": false,
     "start_time": "2024-01-18T10:37:03.776799",
     "status": "completed"
    },
    "tags": []
   },
   "outputs": [
    {
     "name": "stdout",
     "output_type": "stream",
     "text": [
      "Index(['Unnamed: 0', 'car_name', 'registration_year', 'insurance_validity',\n",
      "       'fuel_type', 'seats', 'kms_driven', 'ownsership', 'transmission',\n",
      "       'manufacturing_year', 'mileage(kmpl)', 'engine(cc)', 'max_power(bhp)',\n",
      "       'torque(Nm)', 'price(in lakhs)'],\n",
      "      dtype='object')\n"
     ]
    }
   ],
   "source": [
    "print(data.columns)"
   ]
  },
  {
   "cell_type": "code",
   "execution_count": 11,
   "id": "2d793131",
   "metadata": {
    "execution": {
     "iopub.execute_input": "2024-01-18T10:37:03.807388Z",
     "iopub.status.busy": "2024-01-18T10:37:03.806318Z",
     "iopub.status.idle": "2024-01-18T10:37:08.076521Z",
     "shell.execute_reply": "2024-01-18T10:37:08.075196Z"
    },
    "papermill": {
     "duration": 4.281183,
     "end_time": "2024-01-18T10:37:08.079700",
     "exception": false,
     "start_time": "2024-01-18T10:37:03.798517",
     "status": "completed"
    },
    "tags": []
   },
   "outputs": [
    {
     "data": {
      "image/png": "[encoded data removed]",
      "text/plain": [
       "<Figure size 2000x250 with 8 Axes>"
      ]
     },
     "metadata": {},
     "output_type": "display_data"
    }
   ],
   "source": [
    "import seaborn as sns\n",
    "import matplotlib.pyplot as plt\n",
    "\n",
    "# Select relevant features for exploration\n",
    "features = ['registration_year', 'seats', 'kms_driven', 'manufacturing_year', 'mileage(kmpl)', 'engine(cc)', 'max_power(bhp)', 'torque(Nm)']\n",
    "\n",
    "# Create a pair plot to visualize relationships\n",
    "sns.pairplot(data, x_vars=features, y_vars=['price(in lakhs)'])\n",
    "plt.show()"
   ]
  },
  {
   "cell_type": "code",
   "execution_count": 12,
   "id": "e89ef56e",
   "metadata": {
    "execution": {
     "iopub.execute_input": "2024-01-18T10:37:08.098096Z",
     "iopub.status.busy": "2024-01-18T10:37:08.097708Z",
     "iopub.status.idle": "2024-01-18T10:37:08.837339Z",
     "shell.execute_reply": "2024-01-18T10:37:08.836453Z"
    },
    "papermill": {
     "duration": 0.751546,
     "end_time": "2024-01-18T10:37:08.839777",
     "exception": false,
     "start_time": "2024-01-18T10:37:08.088231",
     "status": "completed"
    },
    "tags": []
   },
   "outputs": [
    {
     "name": "stdout",
     "output_type": "stream",
     "text": [
      "Mean Squared Error: 29027011.357838646\n"
     ]
    },
    {
     "data": {
      "image/png": "[encoded data removed]",
      "text/plain": [
       "<Figure size 640x480 with 1 Axes>"
      ]
     },
     "metadata": {},
     "output_type": "display_data"
    }
   ],
   "source": [
    "from sklearn.model_selection import train_test_split\n",
    "from sklearn.linear_model import LinearRegression\n",
    "from sklearn.metrics import mean_squared_error\n",
    "\n",
    "# Assuming 'X' contains features and 'y' is the target variable\n",
    "X = data[['mileage(kmpl)']]  # Replace with the selected feature(s)\n",
    "y = data['price(in lakhs)']\n",
    "\n",
    "# Split data into training and testing sets\n",
    "X_train, X_test, y_train, y_test = train_test_split(X, y, test_size=0.2, random_state=42)\n",
    "\n",
    "# Initialize Linear Regression model\n",
    "linear_reg_model = LinearRegression()\n",
    "\n",
    "# Fit the model on the training data\n",
    "linear_reg_model.fit(X_train, y_train)\n",
    "\n",
    "# Make predictions on the test set\n",
    "y_pred = linear_reg_model.predict(X_test)\n",
    "\n",
    "# Evaluate the model\n",
    "mse = mean_squared_error(y_test, y_pred)\n",
    "print(f'Mean Squared Error: {mse}')\n",
    "\n",
    "# Visualize the regression line\n",
    "plt.scatter(X_test, y_test, color='blue')\n",
    "plt.plot(X_test, y_pred, color='red', linewidth=2)\n",
    "plt.xlabel('Engine Size (cc)')\n",
    "plt.ylabel('Price (in lakhs)')\n",
    "plt.title('Linear Regression: Engine Size vs. Price')\n",
    "plt.show()\n",
    "\n"
   ]
  },
  {
   "cell_type": "markdown",
   "id": "46746911",
   "metadata": {
    "papermill": {
     "duration": 0.007317,
     "end_time": "2024-01-18T10:37:08.854777",
     "exception": false,
     "start_time": "2024-01-18T10:37:08.847460",
     "status": "completed"
    },
    "tags": []
   },
   "source": [
    "Lasso Regression:"
   ]
  },
  {
   "cell_type": "code",
   "execution_count": 13,
   "id": "1f563d2f",
   "metadata": {
    "execution": {
     "iopub.execute_input": "2024-01-18T10:37:08.872560Z",
     "iopub.status.busy": "2024-01-18T10:37:08.871790Z",
     "iopub.status.idle": "2024-01-18T10:37:08.939295Z",
     "shell.execute_reply": "2024-01-18T10:37:08.938457Z"
    },
    "papermill": {
     "duration": 0.079032,
     "end_time": "2024-01-18T10:37:08.941542",
     "exception": false,
     "start_time": "2024-01-18T10:37:08.862510",
     "status": "completed"
    },
    "tags": []
   },
   "outputs": [
    {
     "name": "stdout",
     "output_type": "stream",
     "text": [
      "Mean Squared Error (Lasso): 28954423.285816535\n"
     ]
    }
   ],
   "source": [
    "from sklearn.linear_model import LassoCV\n",
    "\n",
    "# Initialize Lasso Regression model with cross-validation\n",
    "lasso_reg_model = LassoCV(cv=5)\n",
    "\n",
    "# Fit the model on the training data\n",
    "lasso_reg_model.fit(X_train, y_train)\n",
    "\n",
    "# Make predictions on the test set\n",
    "y_pred_lasso = lasso_reg_model.predict(X_test)\n",
    "\n",
    "# Evaluate the model\n",
    "mse_lasso = mean_squared_error(y_test, y_pred_lasso)\n",
    "print(f'Mean Squared Error (Lasso): {mse_lasso}')\n"
   ]
  },
  {
   "cell_type": "code",
   "execution_count": null,
   "id": "8c2df851",
   "metadata": {
    "papermill": {
     "duration": 0.007387,
     "end_time": "2024-01-18T10:37:08.956551",
     "exception": false,
     "start_time": "2024-01-18T10:37:08.949164",
     "status": "completed"
    },
    "tags": []
   },
   "outputs": [],
   "source": []
  },
  {
   "cell_type": "markdown",
   "id": "b61fa82f",
   "metadata": {
    "papermill": {
     "duration": 0.007426,
     "end_time": "2024-01-18T10:37:08.971546",
     "exception": false,
     "start_time": "2024-01-18T10:37:08.964120",
     "status": "completed"
    },
    "tags": []
   },
   "source": [
    " building a linear regression model,engine(cc)' seems to have a linear relationship:"
   ]
  },
  {
   "cell_type": "code",
   "execution_count": 14,
   "id": "1cf27bfb",
   "metadata": {
    "execution": {
     "iopub.execute_input": "2024-01-18T10:37:08.989000Z",
     "iopub.status.busy": "2024-01-18T10:37:08.988528Z",
     "iopub.status.idle": "2024-01-18T10:37:09.024389Z",
     "shell.execute_reply": "2024-01-18T10:37:09.023145Z"
    },
    "papermill": {
     "duration": 0.048114,
     "end_time": "2024-01-18T10:37:09.027318",
     "exception": false,
     "start_time": "2024-01-18T10:37:08.979204",
     "status": "completed"
    },
    "tags": []
   },
   "outputs": [
    {
     "name": "stdout",
     "output_type": "stream",
     "text": [
      "Mean Squared Error: 49.49537376030591\n"
     ]
    }
   ],
   "source": [
    "import pandas as pd\n",
    "from sklearn.model_selection import train_test_split\n",
    "from sklearn.linear_model import LinearRegression\n",
    "from sklearn.preprocessing import StandardScaler\n",
    "from sklearn.metrics import mean_squared_error\n",
    "\n",
    "# Convert 'registration_year' and 'manufacturing_year' to numeric (ignore errors)\n",
    "data['registration_year'] = pd.to_numeric(data['registration_year'], errors='coerce')\n",
    "data['manufacturing_year'] = pd.to_numeric(data['manufacturing_year'], errors='coerce')\n",
    "\n",
    "# Drop rows with missing values after conversion\n",
    "data = data.dropna(subset=['registration_year', 'manufacturing_year'])\n",
    "\n",
    "# Select features and target variable\n",
    "features = ['registration_year', 'seats', 'kms_driven', 'manufacturing_year', 'mileage(kmpl)', 'engine(cc)', 'max_power(bhp)', 'torque(Nm)']\n",
    "target_variable = 'price(in lakhs)'\n",
    "\n",
    "X = data[features]\n",
    "y = data[target_variable]\n",
    "\n",
    "# Split data into training and testing sets\n",
    "X_train, X_test, y_train, y_test = train_test_split(X, y, test_size=0.2, random_state=42)\n",
    "\n",
    "# Standardize numerical features\n",
    "scaler = StandardScaler()\n",
    "X_train_scaled = scaler.fit_transform(X_train)\n",
    "X_test_scaled = scaler.transform(X_test)\n",
    "\n",
    "# Initialize Linear Regression model\n",
    "linear_reg_model = LinearRegression()\n",
    "\n",
    "# Fit the model on the scaled training data\n",
    "linear_reg_model.fit(X_train_scaled, y_train)\n",
    "\n",
    "# Make predictions on the scaled test set\n",
    "y_pred = linear_reg_model.predict(X_test_scaled)\n",
    "\n",
    "# Evaluate the model\n",
    "mse = mean_squared_error(y_test, y_pred)\n",
    "print(f'Mean Squared Error: {mse}')\n"
   ]
  },
  {
   "cell_type": "markdown",
   "id": "d99eb8d9",
   "metadata": {
    "papermill": {
     "duration": 0.00744,
     "end_time": "2024-01-18T10:37:09.042529",
     "exception": false,
     "start_time": "2024-01-18T10:37:09.035089",
     "status": "completed"
    },
    "tags": []
   },
   "source": [
    "Ridge Regression:"
   ]
  },
  {
   "cell_type": "code",
   "execution_count": 15,
   "id": "c9a3431e",
   "metadata": {
    "execution": {
     "iopub.execute_input": "2024-01-18T10:37:09.060570Z",
     "iopub.status.busy": "2024-01-18T10:37:09.059544Z",
     "iopub.status.idle": "2024-01-18T10:37:09.168564Z",
     "shell.execute_reply": "2024-01-18T10:37:09.167099Z"
    },
    "papermill": {
     "duration": 0.123005,
     "end_time": "2024-01-18T10:37:09.173333",
     "exception": false,
     "start_time": "2024-01-18T10:37:09.050328",
     "status": "completed"
    },
    "tags": []
   },
   "outputs": [
    {
     "name": "stdout",
     "output_type": "stream",
     "text": [
      "Mean Squared Error (Ridge): 49.460046615227554\n"
     ]
    }
   ],
   "source": [
    "from sklearn.linear_model import RidgeCV\n",
    "\n",
    "# Initialize Ridge Regression model with cross-validation\n",
    "ridge_reg_model = RidgeCV(cv=5)\n",
    "\n",
    "# Fit the model on the training data\n",
    "ridge_reg_model.fit(X_train, y_train)\n",
    "\n",
    "# Make predictions on the test set\n",
    "y_pred_ridge = ridge_reg_model.predict(X_test)\n",
    "\n",
    "# Evaluate the model\n",
    "mse_ridge = mean_squared_error(y_test, y_pred_ridge)\n",
    "print(f'Mean Squared Error (Ridge): {mse_ridge}')\n",
    "\n"
   ]
  },
  {
   "cell_type": "code",
   "execution_count": null,
   "id": "d998d1be",
   "metadata": {
    "papermill": {
     "duration": 0.009418,
     "end_time": "2024-01-18T10:37:09.190970",
     "exception": false,
     "start_time": "2024-01-18T10:37:09.181552",
     "status": "completed"
    },
    "tags": []
   },
   "outputs": [],
   "source": []
  }
 ],
 "metadata": {
  "kaggle": {
   "accelerator": "none",
   "dataSources": [
    {
     "datasetId": 4227740,
     "sourceId": 7289811,
     "sourceType": "datasetVersion"
    }
   ],
   "dockerImageVersionId": 30635,
   "isGpuEnabled": false,
   "isInternetEnabled": false,
   "language": "python",
   "sourceType": "notebook"
  },
  "kernelspec": {
   "display_name": "Python 3",
   "language": "python",
   "name": "python3"
  },
  "language_info": {
   "codemirror_mode": {
    "name": "ipython",
    "version": 3
   },
   "file_extension": ".py",
   "mimetype": "text/x-python",
   "name": "python",
   "nbconvert_exporter": "python",
   "pygments_lexer": "ipython3",
   "version": "3.10.12"
  },
  "papermill": {
   "default_parameters": {},
   "duration": 10.153132,
   "end_time": "2024-01-18T10:37:09.926765",
   "environment_variables": {},
   "exception": null,
   "input_path": "__notebook__.ipynb",
   "output_path": "__notebook__.ipynb",
   "parameters": {},
   "start_time": "2024-01-18T10:36:59.773633",
   "version": "2.4.0"
  }
 },
 "nbformat": 4,
 "nbformat_minor": 5
}
